{
 "cells": [
  {
   "cell_type": "code",
   "execution_count": 27,
   "metadata": {},
   "outputs": [],
   "source": [
    "# Customers churn prediction on kaggle bank data"
   ]
  },
  {
   "cell_type": "code",
   "execution_count": 1,
   "metadata": {},
   "outputs": [],
   "source": [
    "## REQUIRED LIBRARIES\n",
    "# For data wrangling \n",
    "import numpy as np\n",
    "import pandas as pd\n",
    "\n",
    "# For visualization\n",
    "import matplotlib.pyplot as plt\n",
    "%matplotlib inline\n",
    "import seaborn as sns\n",
    "pd.options.display.max_rows = None\n",
    "pd.options.display.max_columns = None"
   ]
  },
  {
   "cell_type": "code",
   "execution_count": 2,
   "metadata": {},
   "outputs": [
    {
     "data": {
      "text/plain": [
       "(10000, 14)"
      ]
     },
     "execution_count": 2,
     "metadata": {},
     "output_type": "execute_result"
    }
   ],
   "source": [
    "# Read the data frame\n",
    "df = pd.read_csv('Churn_Modelling.csv', delimiter=',')\n",
    "df.shape"
   ]
  },
  {
   "cell_type": "markdown",
   "metadata": {},
   "source": [
    "#(10000, 14)\n",
    "The Df has 1000 rows with 14 attributes. We review this further to identify what attributes will be necessary and what data manipulation needs to be carried out before Exploratory analysis and prediction modelling"
   ]
  },
  {
   "cell_type": "code",
   "execution_count": 3,
   "metadata": {},
   "outputs": [
    {
     "data": {
      "text/plain": [
       "RowNumber          0\n",
       "CustomerId         0\n",
       "Surname            0\n",
       "CreditScore        0\n",
       "Geography          0\n",
       "Gender             0\n",
       "Age                0\n",
       "Tenure             0\n",
       "Balance            0\n",
       "NumOfProducts      0\n",
       "HasCrCard          0\n",
       "IsActiveMember     0\n",
       "EstimatedSalary    0\n",
       "Exited             0\n",
       "dtype: int64"
      ]
     },
     "execution_count": 3,
     "metadata": {},
     "output_type": "execute_result"
    }
   ],
   "source": [
    "# Check columns list and missing values\n",
    "df.isnull().sum()\n",
    "\n",
    "#Well isn't that a rare find; no missing values!"
   ]
  },
  {
   "cell_type": "code",
   "execution_count": 4,
   "metadata": {},
   "outputs": [
    {
     "data": {
      "text/plain": [
       "RowNumber          10000\n",
       "CustomerId         10000\n",
       "Surname             2932\n",
       "CreditScore          460\n",
       "Geography              3\n",
       "Gender                 2\n",
       "Age                   70\n",
       "Tenure                11\n",
       "Balance             6382\n",
       "NumOfProducts          4\n",
       "HasCrCard              2\n",
       "IsActiveMember         2\n",
       "EstimatedSalary     9999\n",
       "Exited                 2\n",
       "dtype: int64"
      ]
     },
     "execution_count": 4,
     "metadata": {},
     "output_type": "execute_result"
    }
   ],
   "source": [
    "# Get unique count for each variable\n",
    "df.nunique()\n",
    "\n",
    "#From the above, we will not require the first 2 attributes as the are specific to a customer. It is borderline with the surname as this would result to profiling so we exclude this as well."
   ]
  },
  {
   "cell_type": "code",
   "execution_count": 5,
   "metadata": {},
   "outputs": [
    {
     "data": {
      "text/html": [
       "<div>\n",
       "<style scoped>\n",
       "    .dataframe tbody tr th:only-of-type {\n",
       "        vertical-align: middle;\n",
       "    }\n",
       "\n",
       "    .dataframe tbody tr th {\n",
       "        vertical-align: top;\n",
       "    }\n",
       "\n",
       "    .dataframe thead th {\n",
       "        text-align: right;\n",
       "    }\n",
       "</style>\n",
       "<table border=\"1\" class=\"dataframe\">\n",
       "  <thead>\n",
       "    <tr style=\"text-align: right;\">\n",
       "      <th></th>\n",
       "      <th>CreditScore</th>\n",
       "      <th>Geography</th>\n",
       "      <th>Gender</th>\n",
       "      <th>Age</th>\n",
       "      <th>Tenure</th>\n",
       "      <th>Balance</th>\n",
       "      <th>NumOfProducts</th>\n",
       "      <th>HasCrCard</th>\n",
       "      <th>IsActiveMember</th>\n",
       "      <th>EstimatedSalary</th>\n",
       "      <th>Exited</th>\n",
       "    </tr>\n",
       "  </thead>\n",
       "  <tbody>\n",
       "    <tr>\n",
       "      <th>0</th>\n",
       "      <td>619</td>\n",
       "      <td>France</td>\n",
       "      <td>Female</td>\n",
       "      <td>42</td>\n",
       "      <td>2</td>\n",
       "      <td>0.00</td>\n",
       "      <td>1</td>\n",
       "      <td>1</td>\n",
       "      <td>1</td>\n",
       "      <td>101348.88</td>\n",
       "      <td>1</td>\n",
       "    </tr>\n",
       "    <tr>\n",
       "      <th>1</th>\n",
       "      <td>608</td>\n",
       "      <td>Spain</td>\n",
       "      <td>Female</td>\n",
       "      <td>41</td>\n",
       "      <td>1</td>\n",
       "      <td>83807.86</td>\n",
       "      <td>1</td>\n",
       "      <td>0</td>\n",
       "      <td>1</td>\n",
       "      <td>112542.58</td>\n",
       "      <td>0</td>\n",
       "    </tr>\n",
       "    <tr>\n",
       "      <th>2</th>\n",
       "      <td>502</td>\n",
       "      <td>France</td>\n",
       "      <td>Female</td>\n",
       "      <td>42</td>\n",
       "      <td>8</td>\n",
       "      <td>159660.80</td>\n",
       "      <td>3</td>\n",
       "      <td>1</td>\n",
       "      <td>0</td>\n",
       "      <td>113931.57</td>\n",
       "      <td>1</td>\n",
       "    </tr>\n",
       "    <tr>\n",
       "      <th>3</th>\n",
       "      <td>699</td>\n",
       "      <td>France</td>\n",
       "      <td>Female</td>\n",
       "      <td>39</td>\n",
       "      <td>1</td>\n",
       "      <td>0.00</td>\n",
       "      <td>2</td>\n",
       "      <td>0</td>\n",
       "      <td>0</td>\n",
       "      <td>93826.63</td>\n",
       "      <td>0</td>\n",
       "    </tr>\n",
       "    <tr>\n",
       "      <th>4</th>\n",
       "      <td>850</td>\n",
       "      <td>Spain</td>\n",
       "      <td>Female</td>\n",
       "      <td>43</td>\n",
       "      <td>2</td>\n",
       "      <td>125510.82</td>\n",
       "      <td>1</td>\n",
       "      <td>1</td>\n",
       "      <td>1</td>\n",
       "      <td>79084.10</td>\n",
       "      <td>0</td>\n",
       "    </tr>\n",
       "  </tbody>\n",
       "</table>\n",
       "</div>"
      ],
      "text/plain": [
       "   CreditScore Geography  Gender  Age  Tenure    Balance  NumOfProducts  \\\n",
       "0          619    France  Female   42       2       0.00              1   \n",
       "1          608     Spain  Female   41       1   83807.86              1   \n",
       "2          502    France  Female   42       8  159660.80              3   \n",
       "3          699    France  Female   39       1       0.00              2   \n",
       "4          850     Spain  Female   43       2  125510.82              1   \n",
       "\n",
       "   HasCrCard  IsActiveMember  EstimatedSalary  Exited  \n",
       "0          1               1        101348.88       1  \n",
       "1          0               1        112542.58       0  \n",
       "2          1               0        113931.57       1  \n",
       "3          0               0         93826.63       0  \n",
       "4          1               1         79084.10       0  "
      ]
     },
     "execution_count": 5,
     "metadata": {},
     "output_type": "execute_result"
    }
   ],
   "source": [
    "# Drop the columns as explained above\n",
    "df = df.drop([\"RowNumber\", \"CustomerId\", \"Surname\"], axis = 1)\n",
    "# Review the top rows of what is left of the data frame\n",
    "df.head()"
   ]
  },
  {
   "cell_type": "markdown",
   "metadata": {},
   "source": [
    "From the above, a couple of question linger:\n",
    "\n",
    "The data appears to be a snapshot as some point in time e.g. the balance is for a given date which leaves a lot of questions:\n",
    "What date is it and of what relevance is this date\n",
    "Would it be possible to obtain balances over a period of time as opposed to a single date.\n",
    "There are customers who have exited but still have a balance in their account! What would this mean? Could they have exited from a product and not the bank?\n",
    "What does being an active member mean and are there difference degrees to it? Could it be better to provide transaction count both in terms of credits and debits to the account instead?\n",
    "A break down to the products bought into by a customer could provide more information topping listing of product count\n",
    "For this exercise, we proceed to model without context even though typically having context and better understanding of the data extraction process would give better insight and possibly lead to better and contextual results of the modelling process"
   ]
  },
  {
   "cell_type": "code",
   "execution_count": 6,
   "metadata": {},
   "outputs": [
    {
     "data": {
      "text/plain": [
       "CreditScore          int64\n",
       "Geography           object\n",
       "Gender              object\n",
       "Age                  int64\n",
       "Tenure               int64\n",
       "Balance            float64\n",
       "NumOfProducts        int64\n",
       "HasCrCard            int64\n",
       "IsActiveMember       int64\n",
       "EstimatedSalary    float64\n",
       "Exited               int64\n",
       "dtype: object"
      ]
     },
     "execution_count": 6,
     "metadata": {},
     "output_type": "execute_result"
    }
   ],
   "source": [
    "# Check variable data types\n",
    "df.dtypes\n",
    "#So we moslty have categorical variables and 5 continuous variables"
   ]
  },
  {
   "cell_type": "markdown",
   "metadata": {},
   "source": [
    "3. Exploratory Data Analysis\n",
    "Here our main interest is to get an understanding as to how the given attributes relate too the 'Exit' status."
   ]
  },
  {
   "cell_type": "code",
   "execution_count": 9,
   "metadata": {},
   "outputs": [
    {
     "data": {
      "image/png": "[encoded data removed]",
      "text/plain": [
       "<Figure size 720x576 with 1 Axes>"
      ]
     },
     "metadata": {},
     "output_type": "display_data"
    }
   ],
   "source": [
    "labels = 'Exited', 'Retained'\n",
    "sizes = [df.Exited[df['Exited']==1].count(), df.Exited[df['Exited']==0].count()]\n",
    "explode = (0, 0.1)\n",
    "fig1, ax1 = plt.subplots(figsize=(10, 8))\n",
    "ax1.pie(sizes, explode=explode, labels=labels, autopct='%1.1f%%',\n",
    "        shadow=True, startangle=90)\n",
    "ax1.axis('equal')\n",
    "plt.title(\"Proportion of customer churned and retained\", size = 20)\n",
    "plt.show()\n",
    "\n",
    "#So about 20% of the customers have churned. So the baseline model could be to predict that 20% of the customers will churn. Given 20% is a small number, we need to ensure that the chosen model does predict with great accuracy this 20% as it is of interest to the bank to identify and keep this bunch as opposed to accurately predicting the customers that are retained."
   ]
  },
  {
   "cell_type": "code",
   "execution_count": 10,
   "metadata": {},
   "outputs": [
    {
     "data": {
      "text/plain": [
       "<matplotlib.axes._subplots.AxesSubplot at 0x1a16b9e208>"
      ]
     },
     "execution_count": 10,
     "metadata": {},
     "output_type": "execute_result"
    },
    {
     "data": {
      "image/png": "[encoded data removed]",
      "text/plain": [
       "<Figure size 1440x864 with 4 Axes>"
      ]
     },
     "metadata": {
      "needs_background": "light"
     },
     "output_type": "display_data"
    }
   ],
   "source": [
    "    # We first review the 'Status' relation with categorical variables\n",
    "    fig, axarr = plt.subplots(2, 2, figsize=(20, 12))\n",
    "    sns.countplot(x='Geography', hue = 'Exited',data = df, ax=axarr[0][0])\n",
    "    sns.countplot(x='Gender', hue = 'Exited',data = df, ax=axarr[0][1])\n",
    "    sns.countplot(x='HasCrCard', hue = 'Exited',data = df, ax=axarr[1][0])\n",
    "    sns.countplot(x='IsActiveMember', hue = 'Exited',data = df, ax=axarr[1][1])\n"
   ]
  },
  {
   "cell_type": "markdown",
   "metadata": {},
   "source": [
    "We note the following:\n",
    "\n",
    "Majority of the data is from persons from France. However, the proportion of churned customers is with inversely related to the population of customers alluding to the bank possibly having a problem (maybe not enough customer service resources allocated) in the areas where it has fewer clients.\n",
    "The proportion of female customers churning is also greater than that of male customers\n",
    "Interestingly, majority of the customers that churned are those with credit cards. Given that majority of the customers have credit cards could prove this to be just a coincidence.\n",
    "Unsurprisingly the inactive members have a greater churn. Worryingly is that the overall proportion of inactive mebers is quite high suggesting that the bank may need a program implemented to turn this group to active customers as this will definately have a positive impact on the customer churn."
   ]
  },
  {
   "cell_type": "code",
   "execution_count": 11,
   "metadata": {},
   "outputs": [
    {
     "data": {
      "text/plain": [
       "<matplotlib.axes._subplots.AxesSubplot at 0x1a17100390>"
      ]
     },
     "execution_count": 11,
     "metadata": {},
     "output_type": "execute_result"
    },
    {
     "data": {
      "image/png": "[encoded data removed]",
      "text/plain": [
       "<Figure size 1440x864 with 6 Axes>"
      ]
     },
     "metadata": {
      "needs_background": "light"
     },
     "output_type": "display_data"
    }
   ],
   "source": [
    "    # Relations based on the continuous data attributes\n",
    "    fig, axarr = plt.subplots(3, 2, figsize=(20, 12))\n",
    "    sns.boxplot(y='CreditScore',x = 'Exited', hue = 'Exited',data = df, ax=axarr[0][0])\n",
    "    sns.boxplot(y='Age',x = 'Exited', hue = 'Exited',data = df , ax=axarr[0][1])\n",
    "    sns.boxplot(y='Tenure',x = 'Exited', hue = 'Exited',data = df, ax=axarr[1][0])\n",
    "    sns.boxplot(y='Balance',x = 'Exited', hue = 'Exited',data = df, ax=axarr[1][1])\n",
    "    sns.boxplot(y='NumOfProducts',x = 'Exited', hue = 'Exited',data = df, ax=axarr[2][0])\n",
    "    sns.boxplot(y='EstimatedSalary',x = 'Exited', hue = 'Exited',data = df, ax=axarr[2][1])"
   ]
  },
  {
   "cell_type": "markdown",
   "metadata": {},
   "source": [
    "We note the following:\n",
    "\n",
    "There is no significant difference in the credit score distribution between retained and churned customers.\n",
    "The older customers are churning at more than the younger ones alluding to a difference in service preference in the age categories. The bank may need to review their target market or review the strategy for retention between the different age groups\n",
    "With regard to the tenure, the clients on either extreme end (spent little time with the bank or a lot of time with the bank) are more likely to churn compared to those that are of average tenure.\n",
    "Worryingly, the bank is losing customers with significant bank balances which is likely to hit their available capital for lending.\n",
    "Neither the product nor the salary has a significant effect on the likelihood to churn.\n",
    "\n",
    "Feature engineering\n",
    "We seek to add features that are likely to have an impact on the probability of churning. We first split the train and test sets"
   ]
  },
  {
   "cell_type": "code",
   "execution_count": 12,
   "metadata": {},
   "outputs": [
    {
     "name": "stdout",
     "output_type": "stream",
     "text": [
      "8000\n",
      "2000\n"
     ]
    }
   ],
   "source": [
    "# Split Train, test data\n",
    "df_train = df.sample(frac=0.8,random_state=200)\n",
    "df_test = df.drop(df_train.index)\n",
    "print(len(df_train))\n",
    "print(len(df_test))"
   ]
  },
  {
   "cell_type": "code",
   "execution_count": 13,
   "metadata": {},
   "outputs": [
    {
     "data": {
      "text/plain": [
       "(-1, 5)"
      ]
     },
     "execution_count": 13,
     "metadata": {},
     "output_type": "execute_result"
    },
    {
     "data": {
      "image/png": "[encoded data removed]",
      "text/plain": [
       "<Figure size 432x288 with 1 Axes>"
      ]
     },
     "metadata": {
      "needs_background": "light"
     },
     "output_type": "display_data"
    }
   ],
   "source": [
    "df_train['BalanceSalaryRatio'] = df_train.Balance/df_train.EstimatedSalary\n",
    "sns.boxplot(y='BalanceSalaryRatio',x = 'Exited', hue = 'Exited',data = df_train)\n",
    "plt.ylim(-1, 5)\n",
    "(-1, 5)\n",
    "\n",
    "#we have seen that the salary has little effect on the chance of a customer churning. However as seen above, the ratio of the bank balance and the estimated salary indicates that customers with a higher balance salary ratio churn more which would be worrying to the bank as this impacts their source of loan capital."
   ]
  },
  {
   "cell_type": "code",
   "execution_count": 14,
   "metadata": {},
   "outputs": [
    {
     "data": {
      "image/png": "[encoded data removed]",
      "text/plain": [
       "<Figure size 432x288 with 1 Axes>"
      ]
     },
     "metadata": {
      "needs_background": "light"
     },
     "output_type": "display_data"
    }
   ],
   "source": [
    "# Given that tenure is a 'function' of age, we introduce a variable aiming to standardize tenure over age:\n",
    "df_train['TenureByAge'] = df_train.Tenure/(df_train.Age)\n",
    "sns.boxplot(y='TenureByAge',x = 'Exited', hue = 'Exited',data = df_train)\n",
    "plt.ylim(-1, 1)\n",
    "plt.show()"
   ]
  },
  {
   "cell_type": "code",
   "execution_count": 15,
   "metadata": {},
   "outputs": [],
   "source": [
    "# introduce a variable to capture credit score given age to take into account credit behaviour visavis adult life\n",
    "\n",
    "df_train['CreditScoreGivenAge'] = df_train.CreditScore/(df_train.Age)"
   ]
  },
  {
   "cell_type": "code",
   "execution_count": 16,
   "metadata": {},
   "outputs": [
    {
     "data": {
      "text/html": [
       "<div>\n",
       "<style scoped>\n",
       "    .dataframe tbody tr th:only-of-type {\n",
       "        vertical-align: middle;\n",
       "    }\n",
       "\n",
       "    .dataframe tbody tr th {\n",
       "        vertical-align: top;\n",
       "    }\n",
       "\n",
       "    .dataframe thead th {\n",
       "        text-align: right;\n",
       "    }\n",
       "</style>\n",
       "<table border=\"1\" class=\"dataframe\">\n",
       "  <thead>\n",
       "    <tr style=\"text-align: right;\">\n",
       "      <th></th>\n",
       "      <th>CreditScore</th>\n",
       "      <th>Geography</th>\n",
       "      <th>Gender</th>\n",
       "      <th>Age</th>\n",
       "      <th>Tenure</th>\n",
       "      <th>Balance</th>\n",
       "      <th>NumOfProducts</th>\n",
       "      <th>HasCrCard</th>\n",
       "      <th>IsActiveMember</th>\n",
       "      <th>EstimatedSalary</th>\n",
       "      <th>Exited</th>\n",
       "      <th>BalanceSalaryRatio</th>\n",
       "      <th>TenureByAge</th>\n",
       "      <th>CreditScoreGivenAge</th>\n",
       "    </tr>\n",
       "  </thead>\n",
       "  <tbody>\n",
       "    <tr>\n",
       "      <th>8159</th>\n",
       "      <td>461</td>\n",
       "      <td>Spain</td>\n",
       "      <td>Female</td>\n",
       "      <td>25</td>\n",
       "      <td>6</td>\n",
       "      <td>0.00</td>\n",
       "      <td>2</td>\n",
       "      <td>1</td>\n",
       "      <td>1</td>\n",
       "      <td>15306.29</td>\n",
       "      <td>0</td>\n",
       "      <td>0.000000</td>\n",
       "      <td>0.240000</td>\n",
       "      <td>18.440000</td>\n",
       "    </tr>\n",
       "    <tr>\n",
       "      <th>6332</th>\n",
       "      <td>619</td>\n",
       "      <td>France</td>\n",
       "      <td>Female</td>\n",
       "      <td>35</td>\n",
       "      <td>4</td>\n",
       "      <td>90413.12</td>\n",
       "      <td>1</td>\n",
       "      <td>1</td>\n",
       "      <td>1</td>\n",
       "      <td>20555.21</td>\n",
       "      <td>0</td>\n",
       "      <td>4.398550</td>\n",
       "      <td>0.114286</td>\n",
       "      <td>17.685714</td>\n",
       "    </tr>\n",
       "    <tr>\n",
       "      <th>8895</th>\n",
       "      <td>699</td>\n",
       "      <td>France</td>\n",
       "      <td>Female</td>\n",
       "      <td>40</td>\n",
       "      <td>8</td>\n",
       "      <td>122038.34</td>\n",
       "      <td>1</td>\n",
       "      <td>1</td>\n",
       "      <td>0</td>\n",
       "      <td>102085.35</td>\n",
       "      <td>0</td>\n",
       "      <td>1.195454</td>\n",
       "      <td>0.200000</td>\n",
       "      <td>17.475000</td>\n",
       "    </tr>\n",
       "    <tr>\n",
       "      <th>5351</th>\n",
       "      <td>558</td>\n",
       "      <td>Germany</td>\n",
       "      <td>Male</td>\n",
       "      <td>41</td>\n",
       "      <td>2</td>\n",
       "      <td>124227.14</td>\n",
       "      <td>1</td>\n",
       "      <td>1</td>\n",
       "      <td>1</td>\n",
       "      <td>111184.67</td>\n",
       "      <td>0</td>\n",
       "      <td>1.117305</td>\n",
       "      <td>0.048780</td>\n",
       "      <td>13.609756</td>\n",
       "    </tr>\n",
       "    <tr>\n",
       "      <th>4314</th>\n",
       "      <td>638</td>\n",
       "      <td>France</td>\n",
       "      <td>Male</td>\n",
       "      <td>34</td>\n",
       "      <td>5</td>\n",
       "      <td>133501.36</td>\n",
       "      <td>1</td>\n",
       "      <td>0</td>\n",
       "      <td>1</td>\n",
       "      <td>155643.04</td>\n",
       "      <td>0</td>\n",
       "      <td>0.857741</td>\n",
       "      <td>0.147059</td>\n",
       "      <td>18.764706</td>\n",
       "    </tr>\n",
       "  </tbody>\n",
       "</table>\n",
       "</div>"
      ],
      "text/plain": [
       "      CreditScore Geography  Gender  Age  Tenure    Balance  NumOfProducts  \\\n",
       "8159          461     Spain  Female   25       6       0.00              2   \n",
       "6332          619    France  Female   35       4   90413.12              1   \n",
       "8895          699    France  Female   40       8  122038.34              1   \n",
       "5351          558   Germany    Male   41       2  124227.14              1   \n",
       "4314          638    France    Male   34       5  133501.36              1   \n",
       "\n",
       "      HasCrCard  IsActiveMember  EstimatedSalary  Exited  BalanceSalaryRatio  \\\n",
       "8159          1               1         15306.29       0            0.000000   \n",
       "6332          1               1         20555.21       0            4.398550   \n",
       "8895          1               0        102085.35       0            1.195454   \n",
       "5351          1               1        111184.67       0            1.117305   \n",
       "4314          0               1        155643.04       0            0.857741   \n",
       "\n",
       "      TenureByAge  CreditScoreGivenAge  \n",
       "8159     0.240000            18.440000  \n",
       "6332     0.114286            17.685714  \n",
       "8895     0.200000            17.475000  \n",
       "5351     0.048780            13.609756  \n",
       "4314     0.147059            18.764706  "
      ]
     },
     "execution_count": 16,
     "metadata": {},
     "output_type": "execute_result"
    }
   ],
   "source": [
    "# Resulting Data Frame\n",
    "df_train.head()"
   ]
  },
  {
   "cell_type": "code",
   "execution_count": 17,
   "metadata": {},
   "outputs": [
    {
     "data": {
      "text/html": [
       "<div>\n",
       "<style scoped>\n",
       "    .dataframe tbody tr th:only-of-type {\n",
       "        vertical-align: middle;\n",
       "    }\n",
       "\n",
       "    .dataframe tbody tr th {\n",
       "        vertical-align: top;\n",
       "    }\n",
       "\n",
       "    .dataframe thead th {\n",
       "        text-align: right;\n",
       "    }\n",
       "</style>\n",
       "<table border=\"1\" class=\"dataframe\">\n",
       "  <thead>\n",
       "    <tr style=\"text-align: right;\">\n",
       "      <th></th>\n",
       "      <th>Exited</th>\n",
       "      <th>CreditScore</th>\n",
       "      <th>Age</th>\n",
       "      <th>Tenure</th>\n",
       "      <th>Balance</th>\n",
       "      <th>NumOfProducts</th>\n",
       "      <th>EstimatedSalary</th>\n",
       "      <th>BalanceSalaryRatio</th>\n",
       "      <th>TenureByAge</th>\n",
       "      <th>CreditScoreGivenAge</th>\n",
       "      <th>HasCrCard</th>\n",
       "      <th>IsActiveMember</th>\n",
       "      <th>Geography</th>\n",
       "      <th>Gender</th>\n",
       "    </tr>\n",
       "  </thead>\n",
       "  <tbody>\n",
       "    <tr>\n",
       "      <th>8159</th>\n",
       "      <td>0</td>\n",
       "      <td>461</td>\n",
       "      <td>25</td>\n",
       "      <td>6</td>\n",
       "      <td>0.00</td>\n",
       "      <td>2</td>\n",
       "      <td>15306.29</td>\n",
       "      <td>0.000000</td>\n",
       "      <td>0.240000</td>\n",
       "      <td>18.440000</td>\n",
       "      <td>1</td>\n",
       "      <td>1</td>\n",
       "      <td>Spain</td>\n",
       "      <td>Female</td>\n",
       "    </tr>\n",
       "    <tr>\n",
       "      <th>6332</th>\n",
       "      <td>0</td>\n",
       "      <td>619</td>\n",
       "      <td>35</td>\n",
       "      <td>4</td>\n",
       "      <td>90413.12</td>\n",
       "      <td>1</td>\n",
       "      <td>20555.21</td>\n",
       "      <td>4.398550</td>\n",
       "      <td>0.114286</td>\n",
       "      <td>17.685714</td>\n",
       "      <td>1</td>\n",
       "      <td>1</td>\n",
       "      <td>France</td>\n",
       "      <td>Female</td>\n",
       "    </tr>\n",
       "    <tr>\n",
       "      <th>8895</th>\n",
       "      <td>0</td>\n",
       "      <td>699</td>\n",
       "      <td>40</td>\n",
       "      <td>8</td>\n",
       "      <td>122038.34</td>\n",
       "      <td>1</td>\n",
       "      <td>102085.35</td>\n",
       "      <td>1.195454</td>\n",
       "      <td>0.200000</td>\n",
       "      <td>17.475000</td>\n",
       "      <td>1</td>\n",
       "      <td>0</td>\n",
       "      <td>France</td>\n",
       "      <td>Female</td>\n",
       "    </tr>\n",
       "    <tr>\n",
       "      <th>5351</th>\n",
       "      <td>0</td>\n",
       "      <td>558</td>\n",
       "      <td>41</td>\n",
       "      <td>2</td>\n",
       "      <td>124227.14</td>\n",
       "      <td>1</td>\n",
       "      <td>111184.67</td>\n",
       "      <td>1.117305</td>\n",
       "      <td>0.048780</td>\n",
       "      <td>13.609756</td>\n",
       "      <td>1</td>\n",
       "      <td>1</td>\n",
       "      <td>Germany</td>\n",
       "      <td>Male</td>\n",
       "    </tr>\n",
       "    <tr>\n",
       "      <th>4314</th>\n",
       "      <td>0</td>\n",
       "      <td>638</td>\n",
       "      <td>34</td>\n",
       "      <td>5</td>\n",
       "      <td>133501.36</td>\n",
       "      <td>1</td>\n",
       "      <td>155643.04</td>\n",
       "      <td>0.857741</td>\n",
       "      <td>0.147059</td>\n",
       "      <td>18.764706</td>\n",
       "      <td>0</td>\n",
       "      <td>1</td>\n",
       "      <td>France</td>\n",
       "      <td>Male</td>\n",
       "    </tr>\n",
       "  </tbody>\n",
       "</table>\n",
       "</div>"
      ],
      "text/plain": [
       "      Exited  CreditScore  Age  Tenure    Balance  NumOfProducts  \\\n",
       "8159       0          461   25       6       0.00              2   \n",
       "6332       0          619   35       4   90413.12              1   \n",
       "8895       0          699   40       8  122038.34              1   \n",
       "5351       0          558   41       2  124227.14              1   \n",
       "4314       0          638   34       5  133501.36              1   \n",
       "\n",
       "      EstimatedSalary  BalanceSalaryRatio  TenureByAge  CreditScoreGivenAge  \\\n",
       "8159         15306.29            0.000000     0.240000            18.440000   \n",
       "6332         20555.21            4.398550     0.114286            17.685714   \n",
       "8895        102085.35            1.195454     0.200000            17.475000   \n",
       "5351        111184.67            1.117305     0.048780            13.609756   \n",
       "4314        155643.04            0.857741     0.147059            18.764706   \n",
       "\n",
       "      HasCrCard  IsActiveMember Geography  Gender  \n",
       "8159          1               1     Spain  Female  \n",
       "6332          1               1    France  Female  \n",
       "8895          1               0    France  Female  \n",
       "5351          1               1   Germany    Male  \n",
       "4314          0               1    France    Male  "
      ]
     },
     "execution_count": 17,
     "metadata": {},
     "output_type": "execute_result"
    }
   ],
   "source": [
    "#Data prep for model fitting\n",
    "# Arrange columns by data type for easier manipulation\n",
    "continuous_vars = ['CreditScore',  'Age', 'Tenure', 'Balance','NumOfProducts', 'EstimatedSalary', 'BalanceSalaryRatio',\n",
    "                   'TenureByAge','CreditScoreGivenAge']\n",
    "cat_vars = ['HasCrCard', 'IsActiveMember','Geography', 'Gender']\n",
    "df_train = df_train[['Exited'] + continuous_vars + cat_vars]\n",
    "df_train.head()"
   ]
  },
  {
   "cell_type": "code",
   "execution_count": 18,
   "metadata": {},
   "outputs": [
    {
     "data": {
      "text/html": [
       "<div>\n",
       "<style scoped>\n",
       "    .dataframe tbody tr th:only-of-type {\n",
       "        vertical-align: middle;\n",
       "    }\n",
       "\n",
       "    .dataframe tbody tr th {\n",
       "        vertical-align: top;\n",
       "    }\n",
       "\n",
       "    .dataframe thead th {\n",
       "        text-align: right;\n",
       "    }\n",
       "</style>\n",
       "<table border=\"1\" class=\"dataframe\">\n",
       "  <thead>\n",
       "    <tr style=\"text-align: right;\">\n",
       "      <th></th>\n",
       "      <th>Exited</th>\n",
       "      <th>CreditScore</th>\n",
       "      <th>Age</th>\n",
       "      <th>Tenure</th>\n",
       "      <th>Balance</th>\n",
       "      <th>NumOfProducts</th>\n",
       "      <th>EstimatedSalary</th>\n",
       "      <th>BalanceSalaryRatio</th>\n",
       "      <th>TenureByAge</th>\n",
       "      <th>CreditScoreGivenAge</th>\n",
       "      <th>HasCrCard</th>\n",
       "      <th>IsActiveMember</th>\n",
       "      <th>Geography</th>\n",
       "      <th>Gender</th>\n",
       "    </tr>\n",
       "  </thead>\n",
       "  <tbody>\n",
       "    <tr>\n",
       "      <th>8159</th>\n",
       "      <td>0</td>\n",
       "      <td>461</td>\n",
       "      <td>25</td>\n",
       "      <td>6</td>\n",
       "      <td>0.00</td>\n",
       "      <td>2</td>\n",
       "      <td>15306.29</td>\n",
       "      <td>0.000000</td>\n",
       "      <td>0.240000</td>\n",
       "      <td>18.440000</td>\n",
       "      <td>1</td>\n",
       "      <td>1</td>\n",
       "      <td>Spain</td>\n",
       "      <td>Female</td>\n",
       "    </tr>\n",
       "    <tr>\n",
       "      <th>6332</th>\n",
       "      <td>0</td>\n",
       "      <td>619</td>\n",
       "      <td>35</td>\n",
       "      <td>4</td>\n",
       "      <td>90413.12</td>\n",
       "      <td>1</td>\n",
       "      <td>20555.21</td>\n",
       "      <td>4.398550</td>\n",
       "      <td>0.114286</td>\n",
       "      <td>17.685714</td>\n",
       "      <td>1</td>\n",
       "      <td>1</td>\n",
       "      <td>France</td>\n",
       "      <td>Female</td>\n",
       "    </tr>\n",
       "    <tr>\n",
       "      <th>8895</th>\n",
       "      <td>0</td>\n",
       "      <td>699</td>\n",
       "      <td>40</td>\n",
       "      <td>8</td>\n",
       "      <td>122038.34</td>\n",
       "      <td>1</td>\n",
       "      <td>102085.35</td>\n",
       "      <td>1.195454</td>\n",
       "      <td>0.200000</td>\n",
       "      <td>17.475000</td>\n",
       "      <td>1</td>\n",
       "      <td>-1</td>\n",
       "      <td>France</td>\n",
       "      <td>Female</td>\n",
       "    </tr>\n",
       "    <tr>\n",
       "      <th>5351</th>\n",
       "      <td>0</td>\n",
       "      <td>558</td>\n",
       "      <td>41</td>\n",
       "      <td>2</td>\n",
       "      <td>124227.14</td>\n",
       "      <td>1</td>\n",
       "      <td>111184.67</td>\n",
       "      <td>1.117305</td>\n",
       "      <td>0.048780</td>\n",
       "      <td>13.609756</td>\n",
       "      <td>1</td>\n",
       "      <td>1</td>\n",
       "      <td>Germany</td>\n",
       "      <td>Male</td>\n",
       "    </tr>\n",
       "    <tr>\n",
       "      <th>4314</th>\n",
       "      <td>0</td>\n",
       "      <td>638</td>\n",
       "      <td>34</td>\n",
       "      <td>5</td>\n",
       "      <td>133501.36</td>\n",
       "      <td>1</td>\n",
       "      <td>155643.04</td>\n",
       "      <td>0.857741</td>\n",
       "      <td>0.147059</td>\n",
       "      <td>18.764706</td>\n",
       "      <td>-1</td>\n",
       "      <td>1</td>\n",
       "      <td>France</td>\n",
       "      <td>Male</td>\n",
       "    </tr>\n",
       "  </tbody>\n",
       "</table>\n",
       "</div>"
      ],
      "text/plain": [
       "      Exited  CreditScore  Age  Tenure    Balance  NumOfProducts  \\\n",
       "8159       0          461   25       6       0.00              2   \n",
       "6332       0          619   35       4   90413.12              1   \n",
       "8895       0          699   40       8  122038.34              1   \n",
       "5351       0          558   41       2  124227.14              1   \n",
       "4314       0          638   34       5  133501.36              1   \n",
       "\n",
       "      EstimatedSalary  BalanceSalaryRatio  TenureByAge  CreditScoreGivenAge  \\\n",
       "8159         15306.29            0.000000     0.240000            18.440000   \n",
       "6332         20555.21            4.398550     0.114286            17.685714   \n",
       "8895        102085.35            1.195454     0.200000            17.475000   \n",
       "5351        111184.67            1.117305     0.048780            13.609756   \n",
       "4314        155643.04            0.857741     0.147059            18.764706   \n",
       "\n",
       "      HasCrCard  IsActiveMember Geography  Gender  \n",
       "8159          1               1     Spain  Female  \n",
       "6332          1               1    France  Female  \n",
       "8895          1              -1    France  Female  \n",
       "5351          1               1   Germany    Male  \n",
       "4314         -1               1    France    Male  "
      ]
     },
     "execution_count": 18,
     "metadata": {},
     "output_type": "execute_result"
    }
   ],
   "source": [
    "#For the one hot variables, we change 0 to -1 so that the models can capture a negative relation \n",
    "#where the attribute in inapplicable instead of 0\n",
    "df_train.loc[df_train.HasCrCard == 0, 'HasCrCard'] = -1\n",
    "df_train.loc[df_train.IsActiveMember == 0, 'IsActiveMember'] = -1\n",
    "df_train.head()"
   ]
  },
  {
   "cell_type": "code",
   "execution_count": 19,
   "metadata": {},
   "outputs": [
    {
     "data": {
      "text/html": [
       "<div>\n",
       "<style scoped>\n",
       "    .dataframe tbody tr th:only-of-type {\n",
       "        vertical-align: middle;\n",
       "    }\n",
       "\n",
       "    .dataframe tbody tr th {\n",
       "        vertical-align: top;\n",
       "    }\n",
       "\n",
       "    .dataframe thead th {\n",
       "        text-align: right;\n",
       "    }\n",
       "</style>\n",
       "<table border=\"1\" class=\"dataframe\">\n",
       "  <thead>\n",
       "    <tr style=\"text-align: right;\">\n",
       "      <th></th>\n",
       "      <th>Exited</th>\n",
       "      <th>CreditScore</th>\n",
       "      <th>Age</th>\n",
       "      <th>Tenure</th>\n",
       "      <th>Balance</th>\n",
       "      <th>NumOfProducts</th>\n",
       "      <th>EstimatedSalary</th>\n",
       "      <th>BalanceSalaryRatio</th>\n",
       "      <th>TenureByAge</th>\n",
       "      <th>CreditScoreGivenAge</th>\n",
       "      <th>HasCrCard</th>\n",
       "      <th>IsActiveMember</th>\n",
       "      <th>Geography_Spain</th>\n",
       "      <th>Geography_France</th>\n",
       "      <th>Geography_Germany</th>\n",
       "      <th>Gender_Female</th>\n",
       "      <th>Gender_Male</th>\n",
       "    </tr>\n",
       "  </thead>\n",
       "  <tbody>\n",
       "    <tr>\n",
       "      <th>8159</th>\n",
       "      <td>0</td>\n",
       "      <td>461</td>\n",
       "      <td>25</td>\n",
       "      <td>6</td>\n",
       "      <td>0.00</td>\n",
       "      <td>2</td>\n",
       "      <td>15306.29</td>\n",
       "      <td>0.000000</td>\n",
       "      <td>0.240000</td>\n",
       "      <td>18.440000</td>\n",
       "      <td>1</td>\n",
       "      <td>1</td>\n",
       "      <td>1</td>\n",
       "      <td>-1</td>\n",
       "      <td>-1</td>\n",
       "      <td>1</td>\n",
       "      <td>-1</td>\n",
       "    </tr>\n",
       "    <tr>\n",
       "      <th>6332</th>\n",
       "      <td>0</td>\n",
       "      <td>619</td>\n",
       "      <td>35</td>\n",
       "      <td>4</td>\n",
       "      <td>90413.12</td>\n",
       "      <td>1</td>\n",
       "      <td>20555.21</td>\n",
       "      <td>4.398550</td>\n",
       "      <td>0.114286</td>\n",
       "      <td>17.685714</td>\n",
       "      <td>1</td>\n",
       "      <td>1</td>\n",
       "      <td>-1</td>\n",
       "      <td>1</td>\n",
       "      <td>-1</td>\n",
       "      <td>1</td>\n",
       "      <td>-1</td>\n",
       "    </tr>\n",
       "    <tr>\n",
       "      <th>8895</th>\n",
       "      <td>0</td>\n",
       "      <td>699</td>\n",
       "      <td>40</td>\n",
       "      <td>8</td>\n",
       "      <td>122038.34</td>\n",
       "      <td>1</td>\n",
       "      <td>102085.35</td>\n",
       "      <td>1.195454</td>\n",
       "      <td>0.200000</td>\n",
       "      <td>17.475000</td>\n",
       "      <td>1</td>\n",
       "      <td>-1</td>\n",
       "      <td>-1</td>\n",
       "      <td>1</td>\n",
       "      <td>-1</td>\n",
       "      <td>1</td>\n",
       "      <td>-1</td>\n",
       "    </tr>\n",
       "    <tr>\n",
       "      <th>5351</th>\n",
       "      <td>0</td>\n",
       "      <td>558</td>\n",
       "      <td>41</td>\n",
       "      <td>2</td>\n",
       "      <td>124227.14</td>\n",
       "      <td>1</td>\n",
       "      <td>111184.67</td>\n",
       "      <td>1.117305</td>\n",
       "      <td>0.048780</td>\n",
       "      <td>13.609756</td>\n",
       "      <td>1</td>\n",
       "      <td>1</td>\n",
       "      <td>-1</td>\n",
       "      <td>-1</td>\n",
       "      <td>1</td>\n",
       "      <td>-1</td>\n",
       "      <td>1</td>\n",
       "    </tr>\n",
       "    <tr>\n",
       "      <th>4314</th>\n",
       "      <td>0</td>\n",
       "      <td>638</td>\n",
       "      <td>34</td>\n",
       "      <td>5</td>\n",
       "      <td>133501.36</td>\n",
       "      <td>1</td>\n",
       "      <td>155643.04</td>\n",
       "      <td>0.857741</td>\n",
       "      <td>0.147059</td>\n",
       "      <td>18.764706</td>\n",
       "      <td>-1</td>\n",
       "      <td>1</td>\n",
       "      <td>-1</td>\n",
       "      <td>1</td>\n",
       "      <td>-1</td>\n",
       "      <td>-1</td>\n",
       "      <td>1</td>\n",
       "    </tr>\n",
       "  </tbody>\n",
       "</table>\n",
       "</div>"
      ],
      "text/plain": [
       "      Exited  CreditScore  Age  Tenure    Balance  NumOfProducts  \\\n",
       "8159       0          461   25       6       0.00              2   \n",
       "6332       0          619   35       4   90413.12              1   \n",
       "8895       0          699   40       8  122038.34              1   \n",
       "5351       0          558   41       2  124227.14              1   \n",
       "4314       0          638   34       5  133501.36              1   \n",
       "\n",
       "      EstimatedSalary  BalanceSalaryRatio  TenureByAge  CreditScoreGivenAge  \\\n",
       "8159         15306.29            0.000000     0.240000            18.440000   \n",
       "6332         20555.21            4.398550     0.114286            17.685714   \n",
       "8895        102085.35            1.195454     0.200000            17.475000   \n",
       "5351        111184.67            1.117305     0.048780            13.609756   \n",
       "4314        155643.04            0.857741     0.147059            18.764706   \n",
       "\n",
       "      HasCrCard  IsActiveMember  Geography_Spain  Geography_France  \\\n",
       "8159          1               1                1                -1   \n",
       "6332          1               1               -1                 1   \n",
       "8895          1              -1               -1                 1   \n",
       "5351          1               1               -1                -1   \n",
       "4314         -1               1               -1                 1   \n",
       "\n",
       "      Geography_Germany  Gender_Female  Gender_Male  \n",
       "8159                 -1              1           -1  \n",
       "6332                 -1              1           -1  \n",
       "8895                 -1              1           -1  \n",
       "5351                  1             -1            1  \n",
       "4314                 -1             -1            1  "
      ]
     },
     "execution_count": 19,
     "metadata": {},
     "output_type": "execute_result"
    }
   ],
   "source": [
    "# One hot encode the categorical variables\n",
    "lst = ['Geography', 'Gender']\n",
    "remove = list()\n",
    "for i in lst:\n",
    "    if (df_train[i].dtype == np.str or df_train[i].dtype == np.object):\n",
    "        for j in df_train[i].unique():\n",
    "            df_train[i+'_'+j] = np.where(df_train[i] == j,1,-1)\n",
    "        remove.append(i)\n",
    "df_train = df_train.drop(remove, axis=1)\n",
    "\n",
    "df_train.head()"
   ]
  },
  {
   "cell_type": "code",
   "execution_count": 20,
   "metadata": {},
   "outputs": [
    {
     "data": {
      "text/html": [
       "<div>\n",
       "<style scoped>\n",
       "    .dataframe tbody tr th:only-of-type {\n",
       "        vertical-align: middle;\n",
       "    }\n",
       "\n",
       "    .dataframe tbody tr th {\n",
       "        vertical-align: top;\n",
       "    }\n",
       "\n",
       "    .dataframe thead th {\n",
       "        text-align: right;\n",
       "    }\n",
       "</style>\n",
       "<table border=\"1\" class=\"dataframe\">\n",
       "  <thead>\n",
       "    <tr style=\"text-align: right;\">\n",
       "      <th></th>\n",
       "      <th>Exited</th>\n",
       "      <th>CreditScore</th>\n",
       "      <th>Age</th>\n",
       "      <th>Tenure</th>\n",
       "      <th>Balance</th>\n",
       "      <th>NumOfProducts</th>\n",
       "      <th>EstimatedSalary</th>\n",
       "      <th>BalanceSalaryRatio</th>\n",
       "      <th>TenureByAge</th>\n",
       "      <th>CreditScoreGivenAge</th>\n",
       "      <th>HasCrCard</th>\n",
       "      <th>IsActiveMember</th>\n",
       "      <th>Geography_Spain</th>\n",
       "      <th>Geography_France</th>\n",
       "      <th>Geography_Germany</th>\n",
       "      <th>Gender_Female</th>\n",
       "      <th>Gender_Male</th>\n",
       "    </tr>\n",
       "  </thead>\n",
       "  <tbody>\n",
       "    <tr>\n",
       "      <th>8159</th>\n",
       "      <td>0</td>\n",
       "      <td>0.222</td>\n",
       "      <td>0.094595</td>\n",
       "      <td>0.6</td>\n",
       "      <td>0.000000</td>\n",
       "      <td>0.333333</td>\n",
       "      <td>0.076118</td>\n",
       "      <td>0.000000</td>\n",
       "      <td>0.432000</td>\n",
       "      <td>0.323157</td>\n",
       "      <td>1</td>\n",
       "      <td>1</td>\n",
       "      <td>1</td>\n",
       "      <td>-1</td>\n",
       "      <td>-1</td>\n",
       "      <td>1</td>\n",
       "      <td>-1</td>\n",
       "    </tr>\n",
       "    <tr>\n",
       "      <th>6332</th>\n",
       "      <td>0</td>\n",
       "      <td>0.538</td>\n",
       "      <td>0.229730</td>\n",
       "      <td>0.4</td>\n",
       "      <td>0.360358</td>\n",
       "      <td>0.000000</td>\n",
       "      <td>0.102376</td>\n",
       "      <td>0.003317</td>\n",
       "      <td>0.205714</td>\n",
       "      <td>0.305211</td>\n",
       "      <td>1</td>\n",
       "      <td>1</td>\n",
       "      <td>-1</td>\n",
       "      <td>1</td>\n",
       "      <td>-1</td>\n",
       "      <td>1</td>\n",
       "      <td>-1</td>\n",
       "    </tr>\n",
       "    <tr>\n",
       "      <th>8895</th>\n",
       "      <td>0</td>\n",
       "      <td>0.698</td>\n",
       "      <td>0.297297</td>\n",
       "      <td>0.8</td>\n",
       "      <td>0.486406</td>\n",
       "      <td>0.000000</td>\n",
       "      <td>0.510225</td>\n",
       "      <td>0.000901</td>\n",
       "      <td>0.360000</td>\n",
       "      <td>0.300198</td>\n",
       "      <td>1</td>\n",
       "      <td>-1</td>\n",
       "      <td>-1</td>\n",
       "      <td>1</td>\n",
       "      <td>-1</td>\n",
       "      <td>1</td>\n",
       "      <td>-1</td>\n",
       "    </tr>\n",
       "    <tr>\n",
       "      <th>5351</th>\n",
       "      <td>0</td>\n",
       "      <td>0.416</td>\n",
       "      <td>0.310811</td>\n",
       "      <td>0.2</td>\n",
       "      <td>0.495130</td>\n",
       "      <td>0.000000</td>\n",
       "      <td>0.555744</td>\n",
       "      <td>0.000843</td>\n",
       "      <td>0.087805</td>\n",
       "      <td>0.208238</td>\n",
       "      <td>1</td>\n",
       "      <td>1</td>\n",
       "      <td>-1</td>\n",
       "      <td>-1</td>\n",
       "      <td>1</td>\n",
       "      <td>-1</td>\n",
       "      <td>1</td>\n",
       "    </tr>\n",
       "    <tr>\n",
       "      <th>4314</th>\n",
       "      <td>0</td>\n",
       "      <td>0.576</td>\n",
       "      <td>0.216216</td>\n",
       "      <td>0.5</td>\n",
       "      <td>0.532094</td>\n",
       "      <td>0.000000</td>\n",
       "      <td>0.778145</td>\n",
       "      <td>0.000647</td>\n",
       "      <td>0.264706</td>\n",
       "      <td>0.330882</td>\n",
       "      <td>-1</td>\n",
       "      <td>1</td>\n",
       "      <td>-1</td>\n",
       "      <td>1</td>\n",
       "      <td>-1</td>\n",
       "      <td>-1</td>\n",
       "      <td>1</td>\n",
       "    </tr>\n",
       "  </tbody>\n",
       "</table>\n",
       "</div>"
      ],
      "text/plain": [
       "      Exited  CreditScore       Age  Tenure   Balance  NumOfProducts  \\\n",
       "8159       0        0.222  0.094595     0.6  0.000000       0.333333   \n",
       "6332       0        0.538  0.229730     0.4  0.360358       0.000000   \n",
       "8895       0        0.698  0.297297     0.8  0.486406       0.000000   \n",
       "5351       0        0.416  0.310811     0.2  0.495130       0.000000   \n",
       "4314       0        0.576  0.216216     0.5  0.532094       0.000000   \n",
       "\n",
       "      EstimatedSalary  BalanceSalaryRatio  TenureByAge  CreditScoreGivenAge  \\\n",
       "8159         0.076118            0.000000     0.432000             0.323157   \n",
       "6332         0.102376            0.003317     0.205714             0.305211   \n",
       "8895         0.510225            0.000901     0.360000             0.300198   \n",
       "5351         0.555744            0.000843     0.087805             0.208238   \n",
       "4314         0.778145            0.000647     0.264706             0.330882   \n",
       "\n",
       "      HasCrCard  IsActiveMember  Geography_Spain  Geography_France  \\\n",
       "8159          1               1                1                -1   \n",
       "6332          1               1               -1                 1   \n",
       "8895          1              -1               -1                 1   \n",
       "5351          1               1               -1                -1   \n",
       "4314         -1               1               -1                 1   \n",
       "\n",
       "      Geography_Germany  Gender_Female  Gender_Male  \n",
       "8159                 -1              1           -1  \n",
       "6332                 -1              1           -1  \n",
       "8895                 -1              1           -1  \n",
       "5351                  1             -1            1  \n",
       "4314                 -1             -1            1  "
      ]
     },
     "execution_count": 20,
     "metadata": {},
     "output_type": "execute_result"
    }
   ],
   "source": [
    "# minMax scaling the continuous variables\n",
    "minVec = df_train[continuous_vars].min().copy()\n",
    "maxVec = df_train[continuous_vars].max().copy()\n",
    "df_train[continuous_vars] = (df_train[continuous_vars]-minVec)/(maxVec-minVec)\n",
    "df_train.head()"
   ]
  },
  {
   "cell_type": "code",
   "execution_count": 21,
   "metadata": {},
   "outputs": [],
   "source": [
    "# data prep pipeline for test data\n",
    "def DfPrepPipeline(df_predict,df_train_Cols,minVec,maxVec):\n",
    "    # Add new features\n",
    "    df_predict['BalanceSalaryRatio'] = df_predict.Balance/df_predict.EstimatedSalary\n",
    "    df_predict['TenureByAge'] = df_predict.Tenure/(df_predict.Age - 18)\n",
    "    df_predict['CreditScoreGivenAge'] = df_predict.CreditScore/(df_predict.Age - 18)\n",
    "    # Reorder the columns\n",
    "    continuous_vars = ['CreditScore','Age','Tenure','Balance','NumOfProducts','EstimatedSalary','BalanceSalaryRatio',\n",
    "                   'TenureByAge','CreditScoreGivenAge']\n",
    "    cat_vars = ['HasCrCard','IsActiveMember',\"Geography\", \"Gender\"] \n",
    "    df_predict = df_predict[['Exited'] + continuous_vars + cat_vars]\n",
    "    # Change the 0 in categorical variables to -1\n",
    "    df_predict.loc[df_predict.HasCrCard == 0, 'HasCrCard'] = -1\n",
    "    df_predict.loc[df_predict.IsActiveMember == 0, 'IsActiveMember'] = -1\n",
    "    # One hot encode the categorical variables\n",
    "    lst = [\"Geography\", \"Gender\"]\n",
    "    remove = list()\n",
    "    for i in lst:\n",
    "        for j in df_predict[i].unique():\n",
    "            df_predict[i+'_'+j] = np.where(df_predict[i] == j,1,-1)\n",
    "        remove.append(i)\n",
    "    df_predict = df_predict.drop(remove, axis=1)\n",
    "    # Ensure that all one hot encoded variables that appear in the train data appear in the subsequent data\n",
    "    L = list(set(df_train_Cols) - set(df_predict.columns))\n",
    "    for l in L:\n",
    "        df_predict[str(l)] = -1        \n",
    "    # MinMax scaling coontinuous variables based on min and max from the train data\n",
    "    df_predict[continuous_vars] = (df_predict[continuous_vars]-minVec)/(maxVec-minVec)\n",
    "    # Ensure that The variables are ordered in the same way as was ordered in the train set\n",
    "    df_predict = df_predict[df_train_Cols]\n",
    "    return df_predict"
   ]
  },
  {
   "cell_type": "markdown",
   "metadata": {},
   "source": [
    "6. Model fitting and selection\n",
    "For the model fitting, I will try out the following\n",
    "\n",
    "Logistic regression in the primal space and with different kernels\n",
    "SVM in the primal and with different Kernels\n",
    "Ensemble models"
   ]
  },
  {
   "cell_type": "code",
   "execution_count": 28,
   "metadata": {},
   "outputs": [],
   "source": [
    "# Support functions\n",
    "from sklearn.preprocessing import PolynomialFeatures\n",
    "from sklearn.model_selection import cross_val_score\n",
    "from sklearn.model_selection import GridSearchCV\n",
    "from scipy.stats import uniform\n",
    "\n",
    "# Fit models\n",
    "from sklearn.linear_model import LogisticRegression\n",
    "from sklearn.svm import SVC\n",
    "from sklearn.ensemble import RandomForestClassifier\n",
    "from xgboost import XGBClassifier\n",
    "\n",
    "# Scoring functions\n",
    "from sklearn.metrics import accuracy_score\n",
    "from sklearn.metrics import classification_report\n",
    "from sklearn.metrics import roc_auc_score\n",
    "from sklearn.metrics import roc_curve"
   ]
  },
  {
   "cell_type": "code",
   "execution_count": 29,
   "metadata": {},
   "outputs": [
    {
     "name": "stdout",
     "output_type": "stream",
     "text": [
      "0.815125\n",
      "{'C': 100, 'fit_intercept': True, 'intercept_scaling': 1, 'max_iter': 250, 'penalty': 'l2', 'tol': 1e-05}\n",
      "LogisticRegression(C=100, class_weight=None, dual=False, fit_intercept=True,\n",
      "                   intercept_scaling=1, l1_ratio=None, max_iter=250,\n",
      "                   multi_class='warn', n_jobs=None, penalty='l2',\n",
      "                   random_state=None, solver='lbfgs', tol=1e-05, verbose=0,\n",
      "                   warm_start=False)\n"
     ]
    }
   ],
   "source": [
    "# Function to give best model score and parameters\n",
    "def best_model(model):\n",
    "    print(model.best_score_)    \n",
    "    print(model.best_params_)\n",
    "    print(model.best_estimator_)\n",
    "def get_auc_scores(y_actual, method,method2):\n",
    "    auc_score = roc_auc_score(y_actual, method); \n",
    "    fpr_df, tpr_df, _ = roc_curve(y_actual, method2); \n",
    "    return (auc_score, fpr_df, tpr_df)\n",
    "# !Warning. This section takes a loooooong time to run so you have the option to skip to the next section where I fit the better models from this section.\n",
    "# Fit primal logistic regression\n",
    "param_grid = {'C': [0.1,0.5,1,10,50,100], 'max_iter': [250], 'fit_intercept':[True],'intercept_scaling':[1],\n",
    "              'penalty':['l2'], 'tol':[0.00001,0.0001,0.000001]}\n",
    "log_primal_Grid = GridSearchCV(LogisticRegression(solver='lbfgs'),param_grid, cv=10, refit=True, verbose=0)\n",
    "log_primal_Grid.fit(df_train.loc[:, df_train.columns != 'Exited'],df_train.Exited)\n",
    "best_model(log_primal_Grid)"
   ]
  },
  {
   "cell_type": "code",
   "execution_count": 30,
   "metadata": {},
   "outputs": [
    {
     "data": {
      "text/plain": [
       "LogisticRegression(C=100, class_weight=None, dual=False, fit_intercept=True,\n",
       "                   intercept_scaling=1, l1_ratio=None, max_iter=250,\n",
       "                   multi_class='warn', n_jobs=None, penalty='l2',\n",
       "                   random_state=None, solver='lbfgs', tol=1e-05, verbose=0,\n",
       "                   warm_start=False)"
      ]
     },
     "execution_count": 30,
     "metadata": {},
     "output_type": "execute_result"
    }
   ],
   "source": [
    "#{'C': 100, 'fit_intercept': True, 'intercept_scaling': 1, 'max_iter': 250, 'penalty': 'l2', 'tol': 1e-05}\n",
    "LogisticRegression(C=100, class_weight=None, dual=False, fit_intercept=True,\n",
    "          intercept_scaling=1, max_iter=250, multi_class='warn',\n",
    "          n_jobs=None, penalty='l2', random_state=None, solver='lbfgs',\n",
    "          tol=1e-05, verbose=0, warm_start=False)"
   ]
  },
  {
   "cell_type": "code",
   "execution_count": 32,
   "metadata": {},
   "outputs": [
    {
     "name": "stdout",
     "output_type": "stream",
     "text": [
      "0.855625\n",
      "{'C': 10, 'fit_intercept': True, 'intercept_scaling': 1, 'max_iter': 300, 'penalty': 'l2', 'tol': 0.0001}\n",
      "LogisticRegression(C=10, class_weight=None, dual=False, fit_intercept=True,\n",
      "                   intercept_scaling=1, l1_ratio=None, max_iter=300,\n",
      "                   multi_class='warn', n_jobs=None, penalty='l2',\n",
      "                   random_state=None, solver='liblinear', tol=0.0001, verbose=0,\n",
      "                   warm_start=False)\n"
     ]
    }
   ],
   "source": [
    "# Fit logistic regression with degree 2 polynomial kernel\n",
    "param_grid = {'C': [0.1,10,50], 'max_iter': [300,500], 'fit_intercept':[True],'intercept_scaling':[1],'penalty':['l2'],\n",
    "              'tol':[0.0001,0.000001]}\n",
    "poly2 = PolynomialFeatures(degree=2)\n",
    "df_train_pol2 = poly2.fit_transform(df_train.loc[:, df_train.columns != 'Exited'])\n",
    "log_pol2_Grid = GridSearchCV(LogisticRegression(solver = 'liblinear'),param_grid, cv=5, refit=True, verbose=0)\n",
    "log_pol2_Grid.fit(df_train_pol2,df_train.Exited)\n",
    "best_model(log_pol2_Grid)"
   ]
  },
  {
   "cell_type": "code",
   "execution_count": 33,
   "metadata": {},
   "outputs": [
    {
     "data": {
      "text/plain": [
       "LogisticRegression(C=10, class_weight=None, dual=False, fit_intercept=True,\n",
       "                   intercept_scaling=1, l1_ratio=None, max_iter=300,\n",
       "                   multi_class='warn', n_jobs=None, penalty='l2',\n",
       "                   random_state=None, solver='liblinear', tol=0.0001, verbose=0,\n",
       "                   warm_start=False)"
      ]
     },
     "execution_count": 33,
     "metadata": {},
     "output_type": "execute_result"
    }
   ],
   "source": [
    "#0.855625\n",
    "#{'C': 10, 'fit_intercept': True, 'intercept_scaling': 1, 'max_iter': 300, 'penalty': 'l2', 'tol': 0.0001}\n",
    "LogisticRegression(C=10, class_weight=None, dual=False, fit_intercept=True,\n",
    "          intercept_scaling=1, max_iter=300, multi_class='warn',\n",
    "          n_jobs=None, penalty='l2', random_state=None, solver='liblinear',\n",
    "          tol=0.0001, verbose=0, warm_start=False)"
   ]
  },
  {
   "cell_type": "code",
   "execution_count": 35,
   "metadata": {},
   "outputs": [
    {
     "name": "stdout",
     "output_type": "stream",
     "text": [
      "0.851875\n",
      "{'C': 100, 'gamma': 0.1, 'kernel': 'rbf', 'probability': True}\n",
      "SVC(C=100, cache_size=200, class_weight=None, coef0=0.0,\n",
      "    decision_function_shape='ovr', degree=3, gamma=0.1, kernel='rbf',\n",
      "    max_iter=-1, probability=True, random_state=None, shrinking=True, tol=0.001,\n",
      "    verbose=False)\n"
     ]
    }
   ],
   "source": [
    "# Fit SVM with RBF Kernel\n",
    "param_grid = {'C': [0.5,100,150], 'gamma': [0.1,0.01,0.001],'probability':[True],'kernel': ['rbf']}\n",
    "SVM_grid = GridSearchCV(SVC(), param_grid, cv=3, refit=True, verbose=0)\n",
    "SVM_grid.fit(df_train.loc[:, df_train.columns != 'Exited'],df_train.Exited)\n",
    "best_model(SVM_grid)\n",
    "#0.851875\n",
    "#{'C': 100, 'gamma': 0.1, 'kernel': 'rbf', 'probability': True}"
   ]
  },
  {
   "cell_type": "code",
   "execution_count": 36,
   "metadata": {},
   "outputs": [
    {
     "data": {
      "text/plain": [
       "SVC(C=100, cache_size=200, class_weight=None, coef0=0.0,\n",
       "    decision_function_shape='ovr', degree=3, gamma=0.1, kernel='rbf',\n",
       "    max_iter=-1, probability=True, random_state=None, shrinking=True, tol=0.001,\n",
       "    verbose=False)"
      ]
     },
     "execution_count": 36,
     "metadata": {},
     "output_type": "execute_result"
    }
   ],
   "source": [
    "SVC(C=100, cache_size=200, class_weight=None, coef0=0.0,\n",
    "  decision_function_shape='ovr', degree=3, gamma=0.1, kernel='rbf',\n",
    "  max_iter=-1, probability=True, random_state=None, shrinking=True,\n",
    "  tol=0.001, verbose=False)"
   ]
  },
  {
   "cell_type": "code",
   "execution_count": 39,
   "metadata": {},
   "outputs": [
    {
     "name": "stdout",
     "output_type": "stream",
     "text": [
      "0.8545\n",
      "{'C': 100, 'degree': 2, 'gamma': 0.1, 'kernel': 'poly', 'probability': True}\n",
      "SVC(C=100, cache_size=200, class_weight=None, coef0=0.0,\n",
      "    decision_function_shape='ovr', degree=2, gamma=0.1, kernel='poly',\n",
      "    max_iter=-1, probability=True, random_state=None, shrinking=True, tol=0.001,\n",
      "    verbose=False)\n"
     ]
    }
   ],
   "source": [
    "# Fit SVM with pol kernel\n",
    "param_grid = {'C': [0.5,1,10,50,100], 'gamma': [0.1,0.01,0.001],'probability':[True],'kernel': ['poly'],'degree':[2,3] }\n",
    "SVM_grid = GridSearchCV(SVC(), param_grid, cv=3, refit=True, verbose=0)\n",
    "SVM_grid.fit(df_train.loc[:, df_train.columns != 'Exited'],df_train.Exited)\n",
    "best_model(SVM_grid)"
   ]
  },
  {
   "cell_type": "code",
   "execution_count": 40,
   "metadata": {},
   "outputs": [
    {
     "name": "stdout",
     "output_type": "stream",
     "text": [
      "0.86325\n",
      "{'max_depth': 8, 'max_features': 6, 'min_samples_split': 6, 'n_estimators': 50}\n",
      "RandomForestClassifier(bootstrap=True, class_weight=None, criterion='gini',\n",
      "                       max_depth=8, max_features=6, max_leaf_nodes=None,\n",
      "                       min_impurity_decrease=0.0, min_impurity_split=None,\n",
      "                       min_samples_leaf=1, min_samples_split=6,\n",
      "                       min_weight_fraction_leaf=0.0, n_estimators=50,\n",
      "                       n_jobs=None, oob_score=False, random_state=None,\n",
      "                       verbose=0, warm_start=False)\n"
     ]
    }
   ],
   "source": [
    "#0.8545\n",
    "{'C': 100, 'degree': 2, 'gamma': 0.1, 'kernel': 'poly', 'probability': True}\n",
    "SVC(C=100, cache_size=200, class_weight=None, coef0=0.0,\n",
    "  decision_function_shape='ovr', degree=2, gamma=0.1, kernel='poly',\n",
    "  max_iter=-1, probability=True, random_state=None, shrinking=True,\n",
    "  tol=0.001, verbose=False)\n",
    "# Fit random forest classifier\n",
    "param_grid = {'max_depth': [3, 5, 6, 7, 8], 'max_features': [2,4,6,7,8,9],'n_estimators':[50,100],'min_samples_split': [3, 5, 6, 7]}\n",
    "RanFor_grid = GridSearchCV(RandomForestClassifier(), param_grid, cv=5, refit=True, verbose=0)\n",
    "RanFor_grid.fit(df_train.loc[:, df_train.columns != 'Exited'],df_train.Exited)\n",
    "best_model(RanFor_grid)"
   ]
  },
  {
   "cell_type": "code",
   "execution_count": 41,
   "metadata": {},
   "outputs": [
    {
     "data": {
      "text/plain": [
       "RandomForestClassifier(bootstrap=True, class_weight=None, criterion='gini',\n",
       "                       max_depth=8, max_features=9, max_leaf_nodes=None,\n",
       "                       min_impurity_decrease=0.0, min_impurity_split=None,\n",
       "                       min_samples_leaf=1, min_samples_split=6,\n",
       "                       min_weight_fraction_leaf=0.0, n_estimators=50,\n",
       "                       n_jobs=None, oob_score=False, random_state=None,\n",
       "                       verbose=0, warm_start=False)"
      ]
     },
     "execution_count": 41,
     "metadata": {},
     "output_type": "execute_result"
    }
   ],
   "source": [
    "0.863125\n",
    "{'max_depth': 8, 'max_features': 9, 'min_samples_split': 6, 'n_estimators': 50}\n",
    "RandomForestClassifier(bootstrap=True, class_weight=None, criterion='gini',\n",
    "            max_depth=8, max_features=9, max_leaf_nodes=None,\n",
    "            min_impurity_decrease=0.0, min_impurity_split=None,\n",
    "            min_samples_leaf=1, min_samples_split=6,\n",
    "            min_weight_fraction_leaf=0.0, n_estimators=50, n_jobs=None,\n",
    "            oob_score=False, random_state=None, verbose=0,\n",
    "            warm_start=False)"
   ]
  },
  {
   "cell_type": "code",
   "execution_count": 42,
   "metadata": {},
   "outputs": [
    {
     "name": "stdout",
     "output_type": "stream",
     "text": [
      "0.86325\n",
      "{'gamma': 0.01, 'learning_rate': 0.1, 'max_depth': 7, 'min_child_weight': 5, 'n_estimators': 20}\n",
      "XGBClassifier(base_score=0.5, booster='gbtree', colsample_bylevel=1,\n",
      "              colsample_bynode=1, colsample_bytree=1, gamma=0.01,\n",
      "              learning_rate=0.1, max_delta_step=0, max_depth=7,\n",
      "              min_child_weight=5, missing=None, n_estimators=20, n_jobs=1,\n",
      "              nthread=None, objective='binary:logistic', random_state=0,\n",
      "              reg_alpha=0, reg_lambda=1, scale_pos_weight=1, seed=None,\n",
      "              silent=None, subsample=1, verbosity=1)\n"
     ]
    }
   ],
   "source": [
    "# Fit Extreme Gradient boosting classifier\n",
    "param_grid = {'max_depth': [5,6,7,8], 'gamma': [0.01,0.001,0.001],'min_child_weight':[1,5,10], 'learning_rate': [0.05,0.1, 0.2, 0.3], 'n_estimators':[5,10,20,100]}\n",
    "xgb_grid = GridSearchCV(XGBClassifier(), param_grid, cv=5, refit=True, verbose=0)\n",
    "xgb_grid.fit(df_train.loc[:, df_train.columns != 'Exited'],df_train.Exited)\n",
    "best_model(xgb_grid)"
   ]
  },
  {
   "cell_type": "code",
   "execution_count": 43,
   "metadata": {},
   "outputs": [
    {
     "data": {
      "text/plain": [
       "XGBClassifier(base_score=0.5, booster='gbtree', colsample_bylevel=1,\n",
       "              colsample_bynode=1, colsample_bytree=1, gamma=0.01,\n",
       "              learning_rate=0.1, max_delta_step=0, max_depth=7,\n",
       "              min_child_weight=5, missing=None, n_estimators=20, n_jobs=1,\n",
       "              nthread=None, objective='binary:logistic', random_state=0,\n",
       "              reg_alpha=0, reg_lambda=1, scale_pos_weight=1, seed=None,\n",
       "              silent=True, subsample=1, verbosity=1)"
      ]
     },
     "execution_count": 43,
     "metadata": {},
     "output_type": "execute_result"
    }
   ],
   "source": [
    "#0.86325\n",
    "{'gamma': 0.01, 'learning_rate': 0.1, 'max_depth': 7, 'min_child_weight': 5, 'n_estimators': 20}\n",
    "XGBClassifier(base_score=0.5, booster='gbtree', colsample_bylevel=1,\n",
    "       colsample_bytree=1, gamma=0.01, learning_rate=0.1, max_delta_step=0,\n",
    "       max_depth=7, min_child_weight=5, missing=None, n_estimators=20,\n",
    "       n_jobs=1, nthread=None, objective='binary:logistic', random_state=0,\n",
    "       reg_alpha=0, reg_lambda=1, scale_pos_weight=1, seed=None,\n",
    "       silent=True, subsample=1)"
   ]
  },
  {
   "cell_type": "code",
   "execution_count": 44,
   "metadata": {},
   "outputs": [
    {
     "data": {
      "text/plain": [
       "LogisticRegression(C=100, class_weight=None, dual=False, fit_intercept=True,\n",
       "                   intercept_scaling=1, l1_ratio=None, max_iter=250,\n",
       "                   multi_class='warn', n_jobs=None, penalty='l2',\n",
       "                   random_state=None, solver='lbfgs', tol=1e-05, verbose=0,\n",
       "                   warm_start=False)"
      ]
     },
     "execution_count": 44,
     "metadata": {},
     "output_type": "execute_result"
    }
   ],
   "source": [
    "#Fit best Models\n",
    "# Fit primal logistic regression\n",
    "log_primal = LogisticRegression(C=100, class_weight=None, dual=False, fit_intercept=True,intercept_scaling=1, max_iter=250, multi_class='warn',n_jobs=None, \n",
    "                                penalty='l2', random_state=None, solver='lbfgs',tol=1e-05, verbose=0, warm_start=False)\n",
    "log_primal.fit(df_train.loc[:, df_train.columns != 'Exited'],df_train.Exited)\n",
    "LogisticRegression(C=100, class_weight=None, dual=False, fit_intercept=True,\n",
    "          intercept_scaling=1, max_iter=250, multi_class='warn',\n",
    "          n_jobs=None, penalty='l2', random_state=None, solver='lbfgs',\n",
    "          tol=1e-05, verbose=0, warm_start=False)"
   ]
  },
  {
   "cell_type": "code",
   "execution_count": 45,
   "metadata": {},
   "outputs": [
    {
     "data": {
      "text/plain": [
       "LogisticRegression(C=10, class_weight=None, dual=False, fit_intercept=True,\n",
       "                   intercept_scaling=1, l1_ratio=None, max_iter=300,\n",
       "                   multi_class='warn', n_jobs=None, penalty='l2',\n",
       "                   random_state=None, solver='liblinear', tol=0.0001, verbose=0,\n",
       "                   warm_start=False)"
      ]
     },
     "execution_count": 45,
     "metadata": {},
     "output_type": "execute_result"
    }
   ],
   "source": [
    "# Fit logistic regression with pol 2 kernel\n",
    "poly2 = PolynomialFeatures(degree=2)\n",
    "df_train_pol2 = poly2.fit_transform(df_train.loc[:, df_train.columns != 'Exited'])\n",
    "log_pol2 = LogisticRegression(C=10, class_weight=None, dual=False, fit_intercept=True,intercept_scaling=1, max_iter=300, multi_class='warn', n_jobs=None, \n",
    "                              penalty='l2', random_state=None, solver='liblinear',tol=0.0001, verbose=0, warm_start=False)\n",
    "log_pol2.fit(df_train_pol2,df_train.Exited)\n",
    "LogisticRegression(C=10, class_weight=None, dual=False, fit_intercept=True,\n",
    "          intercept_scaling=1, max_iter=300, multi_class='warn',\n",
    "          n_jobs=None, penalty='l2', random_state=None, solver='liblinear',\n",
    "          tol=0.0001, verbose=0, warm_start=False)"
   ]
  },
  {
   "cell_type": "code",
   "execution_count": 46,
   "metadata": {},
   "outputs": [
    {
     "data": {
      "text/plain": [
       "SVC(C=100, cache_size=200, class_weight=None, coef0=0.0,\n",
       "    decision_function_shape='ovr', degree=3, gamma=0.1, kernel='rbf',\n",
       "    max_iter=-1, probability=True, random_state=None, shrinking=True, tol=0.001,\n",
       "    verbose=False)"
      ]
     },
     "execution_count": 46,
     "metadata": {},
     "output_type": "execute_result"
    }
   ],
   "source": [
    "# Fit SVM with RBF Kernel\n",
    "SVM_RBF = SVC(C=100, cache_size=200, class_weight=None, coef0=0.0, decision_function_shape='ovr', degree=3, gamma=0.1, kernel='rbf', max_iter=-1, probability=True, \n",
    "              random_state=None, shrinking=True,tol=0.001, verbose=False)\n",
    "SVM_RBF.fit(df_train.loc[:, df_train.columns != 'Exited'],df_train.Exited)\n",
    "SVC(C=100, cache_size=200, class_weight=None, coef0=0.0,\n",
    "  decision_function_shape='ovr', degree=3, gamma=0.1, kernel='rbf',\n",
    "  max_iter=-1, probability=True, random_state=None, shrinking=True,\n",
    "  tol=0.001, verbose=False)"
   ]
  },
  {
   "cell_type": "code",
   "execution_count": 47,
   "metadata": {},
   "outputs": [
    {
     "data": {
      "text/plain": [
       "SVC(C=100, cache_size=200, class_weight=None, coef0=0.0,\n",
       "    decision_function_shape='ovr', degree=2, gamma=0.1, kernel='poly',\n",
       "    max_iter=-1, probability=True, random_state=None, shrinking=True, tol=0.001,\n",
       "    verbose=False)"
      ]
     },
     "execution_count": 47,
     "metadata": {},
     "output_type": "execute_result"
    }
   ],
   "source": [
    "# Fit SVM with Pol Kernel\n",
    "SVM_POL = SVC(C=100, cache_size=200, class_weight=None, coef0=0.0,  decision_function_shape='ovr', degree=2, gamma=0.1, kernel='poly',  max_iter=-1,\n",
    "              probability=True, random_state=None, shrinking=True, tol=0.001, verbose=False)\n",
    "SVM_POL.fit(df_train.loc[:, df_train.columns != 'Exited'],df_train.Exited)\n",
    "SVC(C=100, cache_size=200, class_weight=None, coef0=0.0,\n",
    "  decision_function_shape='ovr', degree=2, gamma=0.1, kernel='poly',\n",
    "  max_iter=-1, probability=True, random_state=None, shrinking=True,\n",
    "  tol=0.001, verbose=False)"
   ]
  },
  {
   "cell_type": "code",
   "execution_count": 48,
   "metadata": {},
   "outputs": [
    {
     "data": {
      "text/plain": [
       "RandomForestClassifier(bootstrap=True, class_weight=None, criterion='gini',\n",
       "                       max_depth=8, max_features=6, max_leaf_nodes=None,\n",
       "                       min_impurity_decrease=0.0, min_impurity_split=None,\n",
       "                       min_samples_leaf=1, min_samples_split=3,\n",
       "                       min_weight_fraction_leaf=0.0, n_estimators=50,\n",
       "                       n_jobs=None, oob_score=False, random_state=None,\n",
       "                       verbose=0, warm_start=False)"
      ]
     },
     "execution_count": 48,
     "metadata": {},
     "output_type": "execute_result"
    }
   ],
   "source": [
    "# Fit Random Forest classifier\n",
    "RF = RandomForestClassifier(bootstrap=True, class_weight=None, criterion='gini',max_depth=8, max_features=6, max_leaf_nodes=None,min_impurity_decrease=0.0,\n",
    "                            min_impurity_split=None,min_samples_leaf=1, min_samples_split=3,min_weight_fraction_leaf=0.0, n_estimators=50, n_jobs=None,\n",
    "                            oob_score=False, random_state=None, verbose=0,warm_start=False)\n",
    "RF.fit(df_train.loc[:, df_train.columns != 'Exited'],df_train.Exited)\n",
    "RandomForestClassifier(bootstrap=True, class_weight=None, criterion='gini',\n",
    "            max_depth=8, max_features=6, max_leaf_nodes=None,\n",
    "            min_impurity_decrease=0.0, min_impurity_split=None,\n",
    "            min_samples_leaf=1, min_samples_split=3,\n",
    "            min_weight_fraction_leaf=0.0, n_estimators=50, n_jobs=None,\n",
    "            oob_score=False, random_state=None, verbose=0,\n",
    "            warm_start=False)"
   ]
  },
  {
   "cell_type": "code",
   "execution_count": 57,
   "metadata": {},
   "outputs": [
    {
     "data": {
      "text/plain": [
       "XGBClassifier(base_score=0.5, booster='gbtree', colsample_bylevel=1,\n",
       "              colsample_bynode=1, colsample_bytree=1, gamma=0.01,\n",
       "              learning_rate=0.1, max_delta_step=0, max_depth=7,\n",
       "              min_child_weight=5, missing=None, n_estimators=20, n_jobs=1,\n",
       "              nthread=None, objective='binary:logistic', random_state=0,\n",
       "              reg_alpha=0, reg_lambda=1, scale_pos_weight=1, seed=None,\n",
       "              silent=True, subsample=1, verbosity=1)"
      ]
     },
     "execution_count": 57,
     "metadata": {},
     "output_type": "execute_result"
    }
   ],
   "source": [
    "# Fit Extreme Gradient Boost Classifier\n",
    "XGB = XGBClassifier(base_score=0.5, booster='gbtree', colsample_bylevel=1,colsample_bytree=1, gamma=0.01, learning_rate=0.1, max_delta_step=0,max_depth=7,\n",
    "                    min_child_weight=5, missing=None, n_estimators=20,n_jobs=1, nthread=None, objective='binary:logistic', random_state=0,reg_alpha=0, \n",
    "                    reg_lambda=1, scale_pos_weight=1, seed=None, silent=True, subsample=1)\n",
    "XGB.fit(df_train.loc[:, df_train.columns != 'Exited'],df_train.Exited)"
   ]
  },
  {
   "cell_type": "code",
   "execution_count": 58,
   "metadata": {},
   "outputs": [
    {
     "data": {
      "text/plain": [
       "XGBClassifier(base_score=0.5, booster='gbtree', colsample_bylevel=1,\n",
       "              colsample_bynode=1, colsample_bytree=1, gamma=0.01,\n",
       "              learning_rate=0.1, max_delta_step=0, max_depth=7,\n",
       "              min_child_weight=5, missing=None, n_estimators=20, n_jobs=1,\n",
       "              nthread=None, objective='binary:logistic', random_state=0,\n",
       "              reg_alpha=0, reg_lambda=1, scale_pos_weight=1, seed=None,\n",
       "              silent=True, subsample=1, verbosity=1)"
      ]
     },
     "execution_count": 58,
     "metadata": {},
     "output_type": "execute_result"
    }
   ],
   "source": [
    "XGBClassifier(base_score=0.5, booster='gbtree', colsample_bylevel=1,\n",
    "       colsample_bytree=1, gamma=0.01, learning_rate=0.1, max_delta_step=0,\n",
    "       max_depth=7, min_child_weight=5, missing=None, n_estimators=20,\n",
    "       n_jobs=1, nthread=None, objective='binary:logistic', random_state=0,\n",
    "       reg_alpha=0, reg_lambda=1, scale_pos_weight=1, seed=None,\n",
    "       silent=True, subsample=1)"
   ]
  },
  {
   "cell_type": "code",
   "execution_count": 51,
   "metadata": {},
   "outputs": [
    {
     "name": "stdout",
     "output_type": "stream",
     "text": [
      "              precision    recall  f1-score   support\n",
      "\n",
      "           0       0.83      0.97      0.89      6353\n",
      "           1       0.64      0.24      0.35      1647\n",
      "\n",
      "    accuracy                           0.82      8000\n",
      "   macro avg       0.73      0.60      0.62      8000\n",
      "weighted avg       0.79      0.82      0.78      8000\n",
      "\n"
     ]
    }
   ],
   "source": [
    "#Review best model fit accuracy : Keen interest is on the performance in predicting 1's (Customers who churn)\n",
    "print(classification_report(df_train.Exited, log_primal.predict(df_train.loc[:, df_train.columns != 'Exited'])))"
   ]
  },
  {
   "cell_type": "code",
   "execution_count": 52,
   "metadata": {},
   "outputs": [
    {
     "name": "stdout",
     "output_type": "stream",
     "text": [
      "              precision    recall  f1-score   support\n",
      "\n",
      "           0       0.87      0.97      0.92      6353\n",
      "           1       0.77      0.46      0.57      1647\n",
      "\n",
      "    accuracy                           0.86      8000\n",
      "   macro avg       0.82      0.71      0.75      8000\n",
      "weighted avg       0.85      0.86      0.85      8000\n",
      "\n"
     ]
    }
   ],
   "source": [
    "print(classification_report(df_train.Exited,  log_pol2.predict(df_train_pol2)))"
   ]
  },
  {
   "cell_type": "code",
   "execution_count": 53,
   "metadata": {},
   "outputs": [
    {
     "name": "stdout",
     "output_type": "stream",
     "text": [
      "              precision    recall  f1-score   support\n",
      "\n",
      "           0       0.86      0.98      0.92      6353\n",
      "           1       0.85      0.40      0.54      1647\n",
      "\n",
      "    accuracy                           0.86      8000\n",
      "   macro avg       0.86      0.69      0.73      8000\n",
      "weighted avg       0.86      0.86      0.84      8000\n",
      "\n"
     ]
    }
   ],
   "source": [
    "print(classification_report(df_train.Exited,  SVM_RBF.predict(df_train.loc[:, df_train.columns != 'Exited'])))"
   ]
  },
  {
   "cell_type": "code",
   "execution_count": 54,
   "metadata": {},
   "outputs": [
    {
     "name": "stdout",
     "output_type": "stream",
     "text": [
      "              precision    recall  f1-score   support\n",
      "\n",
      "           0       0.86      0.98      0.92      6353\n",
      "           1       0.84      0.38      0.52      1647\n",
      "\n",
      "    accuracy                           0.86      8000\n",
      "   macro avg       0.85      0.68      0.72      8000\n",
      "weighted avg       0.85      0.86      0.83      8000\n",
      "\n"
     ]
    }
   ],
   "source": [
    "print(classification_report(df_train.Exited,  SVM_POL.predict(df_train.loc[:, df_train.columns != 'Exited'])))"
   ]
  },
  {
   "cell_type": "code",
   "execution_count": 55,
   "metadata": {},
   "outputs": [
    {
     "name": "stdout",
     "output_type": "stream",
     "text": [
      "              precision    recall  f1-score   support\n",
      "\n",
      "           0       0.89      0.98      0.93      6353\n",
      "           1       0.88      0.52      0.65      1647\n",
      "\n",
      "    accuracy                           0.89      8000\n",
      "   macro avg       0.88      0.75      0.79      8000\n",
      "weighted avg       0.88      0.89      0.87      8000\n",
      "\n"
     ]
    }
   ],
   "source": [
    "print(classification_report(df_train.Exited,  RF.predict(df_train.loc[:, df_train.columns != 'Exited'])))"
   ]
  },
  {
   "cell_type": "code",
   "execution_count": 56,
   "metadata": {},
   "outputs": [
    {
     "name": "stdout",
     "output_type": "stream",
     "text": [
      "              precision    recall  f1-score   support\n",
      "\n",
      "           0       0.89      0.97      0.93      6353\n",
      "           1       0.83      0.53      0.64      1647\n",
      "\n",
      "    accuracy                           0.88      8000\n",
      "   macro avg       0.86      0.75      0.79      8000\n",
      "weighted avg       0.88      0.88      0.87      8000\n",
      "\n"
     ]
    }
   ],
   "source": [
    "print(classification_report(df_train.Exited,  XGB.predict(df_train.loc[:, df_train.columns != 'Exited'])))\n"
   ]
  },
  {
   "cell_type": "code",
   "execution_count": 59,
   "metadata": {},
   "outputs": [
    {
     "data": {
      "image/png": "[encoded data removed]",
      "text/plain": [
       "<Figure size 864x432 with 1 Axes>"
      ]
     },
     "metadata": {
      "needs_background": "light"
     },
     "output_type": "display_data"
    }
   ],
   "source": [
    "y = df_train.Exited\n",
    "X = df_train.loc[:, df_train.columns != 'Exited']\n",
    "X_pol2 = df_train_pol2\n",
    "auc_log_primal, fpr_log_primal, tpr_log_primal = get_auc_scores(y, log_primal.predict(X),log_primal.predict_proba(X)[:,1])\n",
    "auc_log_pol2, fpr_log_pol2, tpr_log_pol2 = get_auc_scores(y, log_pol2.predict(X_pol2),log_pol2.predict_proba(X_pol2)[:,1])\n",
    "auc_SVM_RBF, fpr_SVM_RBF, tpr_SVM_RBF = get_auc_scores(y, SVM_RBF.predict(X),SVM_RBF.predict_proba(X)[:,1])\n",
    "auc_SVM_POL, fpr_SVM_POL, tpr_SVM_POL = get_auc_scores(y, SVM_POL.predict(X),SVM_POL.predict_proba(X)[:,1])\n",
    "auc_RF, fpr_RF, tpr_RF = get_auc_scores(y, RF.predict(X),RF.predict_proba(X)[:,1])\n",
    "auc_XGB, fpr_XGB, tpr_XGB = get_auc_scores(y, XGB.predict(X),XGB.predict_proba(X)[:,1])\n",
    "plt.figure(figsize = (12,6), linewidth= 1)\n",
    "plt.plot(fpr_log_primal, tpr_log_primal, label = 'log primal Score: ' + str(round(auc_log_primal, 5)))\n",
    "plt.plot(fpr_log_pol2, tpr_log_pol2, label = 'log pol2 score: ' + str(round(auc_log_pol2, 5)))\n",
    "plt.plot(fpr_SVM_RBF, tpr_SVM_RBF, label = 'SVM RBF Score: ' + str(round(auc_SVM_RBF, 5)))\n",
    "plt.plot(fpr_SVM_POL, tpr_SVM_POL, label = 'SVM POL Score: ' + str(round(auc_SVM_POL, 5)))\n",
    "plt.plot(fpr_RF, tpr_RF, label = 'RF score: ' + str(round(auc_RF, 5)))\n",
    "plt.plot(fpr_XGB, tpr_XGB, label = 'XGB score: ' + str(round(auc_XGB, 5)))\n",
    "plt.plot([0,1], [0,1], 'k--', label = 'Random: 0.5')\n",
    "plt.xlabel('False positive rate')\n",
    "plt.ylabel('True positive rate')\n",
    "plt.title('ROC Curve')\n",
    "plt.legend(loc='best')\n",
    "#plt.savefig('roc_results_ratios.png')\n",
    "plt.show()"
   ]
  },
  {
   "cell_type": "markdown",
   "metadata": {},
   "source": [
    "From the above results, my main aim is to predict the customers that will possibly churn so they can be put in some sort of scheme to prevent churn hence the recall measures on the 1's is of more importance to me than the overall accuracy score of the model.\n",
    "Given that in the data we only had 20% of churn, a recall greater than this baseline will already be an improvement but we want to get as high as possible while trying to maintain a high precision so that the bank can train its resources effectively towards clients highlighted by the model without wasting too much resources on the false positives.\n",
    "From the review of the fitted models above, the best model that gives a decent balance of the recall and precision is the random forest where according to the fit on the training set, with a precision score on 1's of 0.88, out of all customers that the model thinks will churn, 88% do actually churn and with the recall score of 0.53 on the 1's, the model is able to highlight 53% of all those who churned.\n",
    "Test model prediction accuracy on test data"
   ]
  },
  {
   "cell_type": "code",
   "execution_count": 60,
   "metadata": {},
   "outputs": [
    {
     "data": {
      "text/plain": [
       "(1996, 17)"
      ]
     },
     "execution_count": 60,
     "metadata": {},
     "output_type": "execute_result"
    }
   ],
   "source": [
    "# Make the data transformation for test data\n",
    "df_test = DfPrepPipeline(df_test,df_train.columns,minVec,maxVec)\n",
    "df_test = df_test.mask(np.isinf(df_test))\n",
    "df_test = df_test.dropna()\n",
    "df_test.shape"
   ]
  },
  {
   "cell_type": "code",
   "execution_count": 61,
   "metadata": {},
   "outputs": [
    {
     "data": {
      "image/png": "[encoded data removed]",
      "text/plain": [
       "<Figure size 864x432 with 1 Axes>"
      ]
     },
     "metadata": {
      "needs_background": "light"
     },
     "output_type": "display_data"
    }
   ],
   "source": [
    "auc_RF_test, fpr_RF_test, tpr_RF_test = get_auc_scores(df_test.Exited, RF.predict(df_test.loc[:, df_test.columns != 'Exited']),\n",
    "                                                       RF.predict_proba(df_test.loc[:, df_test.columns != 'Exited'])[:,1])\n",
    "plt.figure(figsize = (12,6), linewidth= 1)\n",
    "plt.plot(fpr_RF_test, tpr_RF_test, label = 'RF score: ' + str(round(auc_RF_test, 5)))\n",
    "plt.plot([0,1], [0,1], 'k--', label = 'Random: 0.5')\n",
    "plt.xlabel('False positive rate')\n",
    "plt.ylabel('True positive rate')\n",
    "plt.title('ROC Curve')\n",
    "plt.legend(loc='best')\n",
    "#plt.savefig('roc_results_ratios.png')\n",
    "plt.show()\n",
    "\n",
    "# Conclusion\n",
    "#The precision of the model on previousy unseen test data is slightly higher with regard to predicting 1's i.e. those customers that churn. However, in as much as the model has a high accuracy, it still misses about half of those who end up churning. This could be imprved by providing retraining the model with more data over time while in the meantime working with the model to save the 41% that would have churned :-)"
   ]
  },
  {
   "cell_type": "code",
   "execution_count": null,
   "metadata": {},
   "outputs": [],
   "source": []
  }
 ],
 "metadata": {
  "kernelspec": {
   "display_name": "Python 3",
   "language": "python",
   "name": "python3"
  }
 },
 "nbformat": 4,
 "nbformat_minor": 2
}
